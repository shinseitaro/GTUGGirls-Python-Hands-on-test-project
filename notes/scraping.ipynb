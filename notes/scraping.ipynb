{
 "cells": [
  {
   "cell_type": "code",
   "execution_count": 1,
   "source": [
    "import glob\n",
    "from bs4 import BeautifulSoup"
   ],
   "outputs": [],
   "metadata": {}
  },
  {
   "cell_type": "code",
   "execution_count": 5,
   "source": [
    "html = open(\"../download/【閉店】/_category_kantou_koushinetsu_tokyo_page_1_.html\").read()\n"
   ],
   "outputs": [],
   "metadata": {}
  },
  {
   "cell_type": "code",
   "execution_count": 10,
   "source": [
    "soup = BeautifulSoup(html, 'html.parser')"
   ],
   "outputs": [],
   "metadata": {}
  },
  {
   "cell_type": "code",
   "execution_count": null,
   "source": [
    "dir(soup)"
   ],
   "outputs": [],
   "metadata": {}
  },
  {
   "cell_type": "code",
   "execution_count": 17,
   "source": [
    "soup.select_one(\"article\")"
   ],
   "outputs": [
    {
     "output_type": "execute_result",
     "data": {
      "text/plain": [
       "<article class=\"list col-md-12 post-287548 post type-post status-publish format-standard has-post-thumbnail hentry category-coffie category-tokyo category-close category-kantou_koushinetsu category-restaurant\">\n",
       "<a class=\"post_links\" href=\"https://kaiten-heiten.com/ginza-renoir-ginza2chome/\" title=\"【閉店】喫茶室ルノアール 銀座2丁目店\">\n",
       "<div class=\"list-block\">\n",
       "<div class=\"post_thumb\" style=\"background-image: url('https://i2.wp.com/kaiten-heiten.com/wp-content/uploads/images/2021/09/004-6.jpg?fit=640%2C399&amp;ssl=1')\"><span> </span></div>\n",
       "<div class=\"list-text\">\n",
       "<span class=\"post_time\"><i class=\"icon icon-clock\"></i> 2021-09-01</span>\n",
       "<span class=\"post_cat\"><i class=\"icon icon-folder\"></i> コーヒーショップ, 東京, 閉店情報, 関東・甲信越, 飲食店</span> <h3 class=\"list-title post_ttl\">【閉店】喫茶室ルノアール 銀座2丁目店</h3>\n",
       "</div>\n",
       "</div>\n",
       "</a>\n",
       "</article>"
      ]
     },
     "metadata": {},
     "execution_count": 17
    }
   ],
   "metadata": {}
  }
 ],
 "metadata": {
  "orig_nbformat": 4,
  "language_info": {
   "name": "python",
   "version": "3.7.5",
   "mimetype": "text/x-python",
   "codemirror_mode": {
    "name": "ipython",
    "version": 3
   },
   "pygments_lexer": "ipython3",
   "nbconvert_exporter": "python",
   "file_extension": ".py"
  },
  "kernelspec": {
   "name": "python3",
   "display_name": "Python 3.7.5 64-bit ('.venv': venv)"
  },
  "interpreter": {
   "hash": "e1bc0a2d6e37a3aecb527af0f8472f8cec0e2f95c5036306dcb9f882a331473b"
  }
 },
 "nbformat": 4,
 "nbformat_minor": 2
}