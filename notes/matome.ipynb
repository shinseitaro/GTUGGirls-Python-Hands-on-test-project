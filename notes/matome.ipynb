{
 "cells": [
  {
   "cell_type": "markdown",
   "metadata": {},
   "source": [
    "## 実践Python スクレイピングと可視化\n",
    "\n",
    "今日お伝えしたことをスクレイピングと可視化をしながら学びます\n",
    "\n",
    "### すること\n",
    "1. `download` ディレクトリに格納している開店閉店情報をスクレイピング\n",
    "1. データを前処理\n",
    "1. 可視化\n",
    "\n",
    "### しないこと\n",
    "- html コンテンツのダウンロード\n",
    "    - 時間がかかるし、みんながアクセスすると迷惑になるのでダウンロードしておきました。download ディレクトリに格納しています\n",
    "    - ダウンロードのスクリプトは `src/download.py` に書いています\n",
    "\n",
    "### 時間が出来たらやりたいこと\n",
    "- 作った関数を `src` に移して実行\n",
    "\n",
    "### memo\n",
    "\n",
    "- jupyter notebook では cell の最後に記述したコードの返り値が表示されます\n"
   ]
  },
  {
   "cell_type": "markdown",
   "metadata": {},
   "source": [
    "## ダウンロードした [開店閉店](https://kaiten-heiten.com/)情報htmlをスクレイピング\n",
    "\n",
    "- リスト化されている開店閉店情報から、日付け、カテゴリー、店名、URLを取得する\n",
    "- python で scraping する時のライブラリはだいたい `BeautifulSoup` を使う\n",
    "    - [Beautiful Soup Documentation — Beautiful Soup 4.9.0 documentation](https://www.crummy.com/software/BeautifulSoup/bs4/doc/)\n",
    "\n"
   ]
  },
  {
   "cell_type": "markdown",
   "metadata": {},
   "source": [
    "### スクレイピングの流れ\n",
    "\n",
    "1. 一つのファイルをスクレイピングする関数を作る\n",
    "1. その関数を、全ファイルに対して実行し、一つのデータにまとめる\n",
    "1. データの前処理\n",
    "1. データの可視化"
   ]
  },
  {
   "cell_type": "code",
   "execution_count": null,
   "metadata": {},
   "outputs": [],
   "source": [
    "# cell の大きさを100％にする\n",
    "from IPython.core.display import display, HTML\n",
    "display(HTML(\"<style>.container { width:100% !important; }</style>\"))"
   ]
  },
  {
   "cell_type": "code",
   "execution_count": null,
   "metadata": {},
   "outputs": [],
   "source": [
    "# 使いたいライブラリやモジュールをインポート\n",
    "from bs4 import BeautifulSoup"
   ]
  },
  {
   "cell_type": "markdown",
   "metadata": {},
   "source": [
    "### contents を 読み込む\n",
    "\n",
    "まずは一つの html ファイルをスクレイピングしてみましょう\n",
    "\n",
    "- 今日やったところ\n",
    "    - [ ] 関数\n",
    "    - [ ] メソッド"
   ]
  },
  {
   "cell_type": "code",
   "execution_count": null,
   "metadata": {},
   "outputs": [],
   "source": [
    "# htmlファイルを開いて、中身を読み込む\n",
    "# open関数：引数に渡されたファイルパスのファイルを読み込んでファイル風オブジェクトを返す関数\n",
    "# .read() メソッド: ファイル風オブジェクトがファイルの中身(データ)を文字列で返すメソッド\n",
    "html = open(\"../download/【閉店】/_category_kantou_koushinetsu_tokyo_page_1_.html\").read()\n",
    "print(type(html))\n"
   ]
  },
  {
   "cell_type": "markdown",
   "metadata": {},
   "source": [
    "### コンテンツを スクレイピングするために beautifulsoup オブジェクトに変換\n",
    "- 今日やったところ\n",
    "    - [ ] クラス\n",
    "    - [ ] クラスのインスタンス化\n",
    "    - [ ] クラスの初期値設定"
   ]
  },
  {
   "cell_type": "code",
   "execution_count": null,
   "metadata": {},
   "outputs": [],
   "source": [
    "# BeautifulSoup クラス：　\n",
    "#   初期値にスクレイピングしたいコンテンツと、パーサーを指定してインスタンス化すると、BeautifulSoupインスタンスオブジェクトを返す\n",
    "\n",
    "soup = BeautifulSoup(\n",
    "    html, # スクレイピングしたいコンテンツ\n",
    "    'html.parser'  #パーサーの指定\n",
    ")\n",
    "\n",
    "print(type(soup))"
   ]
  },
  {
   "cell_type": "markdown",
   "metadata": {},
   "source": [
    "### beautifulsoup オブジェクトのメソッドを使って情報を抽出\n",
    "今回は、CSSの情報を元にデータを抽出\n",
    "\n",
    "- 今日やったところ\n",
    "    - [ ] オブジェクト\n",
    "    - [ ] オブジェクトが持つメソッドを確認 dir"
   ]
  },
  {
   "cell_type": "code",
   "execution_count": null,
   "metadata": {
    "scrolled": true
   },
   "outputs": [],
   "source": [
    "# soup オブジェクトが持つアトリビュートを確認 \n",
    "# 各メソッドなどの説明は https://www.crummy.com/software/BeautifulSoup/bs4/ をみてね\n",
    "print(dir(soup))"
   ]
  },
  {
   "cell_type": "markdown",
   "metadata": {},
   "source": [
    "1. `_category_kantou_koushinetsu_tokyo_page_1_.html`をブラウザで開いて、デベロッパーツールを開く\n",
    "1. inspector ボタンを押してブラウザ上で必要な情報の詳細を得る。\n",
    "1. お店1つずつの情報が `article` というタグにまとまってたのでこれを[css-selector](https://www.crummy.com/software/BeautifulSoup/bs4/doc/#css-selectors) をつかって取得する．\n",
    "    - `.select()` メソッドを使う\n",
    "    - 引数にはタグ名、クラス名、IDなどを渡す\n",
    "    \n",
    "\n"
   ]
  },
  {
   "cell_type": "code",
   "execution_count": null,
   "metadata": {},
   "outputs": [],
   "source": [
    "# .select()メソッド： soupオブジェクトが持つデータで、 article タグを持つデータをリストで返すメソッド\n",
    "soup.select(\"article\")"
   ]
  },
  {
   "cell_type": "code",
   "execution_count": null,
   "metadata": {},
   "outputs": [],
   "source": [
    "# 最初の1つだけほしい場合は、リストのインデックス指定か、`.select_one()` メソッドを使う\n",
    "soup.select(\"article\")[0]\n",
    "soup.select_one(\"article\") "
   ]
  },
  {
   "cell_type": "code",
   "execution_count": null,
   "metadata": {},
   "outputs": [],
   "source": [
    "# 各要素は bs4.element.Tag オブジェクト\n",
    "print(type(soup.select(\"article\")[0]))\n"
   ]
  },
  {
   "cell_type": "code",
   "execution_count": null,
   "metadata": {},
   "outputs": [],
   "source": [
    "# オブジェクトなんだからメソッド持ってるよね？と確認すると使えそうなやつがたくさん用意されている\n",
    "print(dir(soup.select(\"article\")[0]))\n"
   ]
  },
  {
   "cell_type": "markdown",
   "metadata": {},
   "source": [
    "article タグの中を確認してみる\n",
    "\n",
    "```html\n",
    "<article class=\"list col-md-12 post-287548 post type-post status-publish format-standard has-post-thumbnail hentry category-coffie category-tokyo category-close category-kantou_koushinetsu category-restaurant\">\n",
    "    <a class=\"post_links\" href=\"https://kaiten-heiten.com/ginza-renoir-ginza2chome/\" title=\"【閉店】喫茶室ルノアール 銀座2丁目店\">\n",
    "        <div class=\"list-block\">\n",
    "            <div class=\"post_thumb\" style=\"background-image: url('https://i2.wp.com/kaiten-heiten.com/wp-content/uploads/images/2021/09/004-6.jpg?fit=640%2C399&amp;ssl=1')\"><span> </span></div>\n",
    "            <div class=\"list-text\">\n",
    "                <span class=\"post_time\"><i class=\"icon icon-clock\"></i> 2021-09-01</span>\n",
    "                <span class=\"post_cat\"><i class=\"icon icon-folder\"></i> コーヒーショップ, 東京, 閉店情報, 関東・甲信越, 飲食店</span> \n",
    "                <h3 class=\"list-title post_ttl\">【閉店】喫茶室ルノアール 銀座2丁目店</h3>\n",
    "            </div>\n",
    "        </div>\n",
    "    </a>\n",
    "</article>\n",
    "```\n",
    "- `a` タグの中で\n",
    "    - `title` アトリビュートで店名\n",
    "    - `<span class=\"post_time\">` で日付け\n",
    "    - `<span class=\"post_cat\">` でカテゴリ\n",
    "- `class=` 属性でカテゴリーリスト\n",
    "- このデータを持つ `bs4.element.Tag` オブジェクトをメソッドで操作していけば、ほしいデータが抽出出来る"
   ]
  },
  {
   "cell_type": "code",
   "execution_count": null,
   "metadata": {},
   "outputs": [],
   "source": [
    "# .select_one() メソッドで `a` タグオブジェクトを取得\n",
    "a = soup.select(\"article\")[0].select_one(\"a\")\n"
   ]
  },
  {
   "cell_type": "code",
   "execution_count": null,
   "metadata": {},
   "outputs": [],
   "source": [
    "print(type(a))\n",
    "\n",
    "print(dir(a))\n"
   ]
  },
  {
   "cell_type": "code",
   "execution_count": null,
   "metadata": {},
   "outputs": [],
   "source": [
    "# タグオブジェクトのメソッド .get() で指定の属性情報を取得\n",
    "a.get(\"title\")\n"
   ]
  },
  {
   "cell_type": "code",
   "execution_count": null,
   "metadata": {},
   "outputs": [],
   "source": [
    "# タグオブジェクトのメソッド .select_one() で タグとcssを指定し該当のオブジェクトを取得、その後テキスト部分だけ取得する .get_text() メソッドでテキストデータを取得\n",
    "a.select_one(\"span.post_time\").get_text()"
   ]
  },
  {
   "cell_type": "code",
   "execution_count": null,
   "metadata": {},
   "outputs": [],
   "source": [
    "# 同上\n",
    "a.select_one(\"span.post_cat\").get_text()"
   ]
  },
  {
   "cell_type": "markdown",
   "metadata": {},
   "source": [
    "次に class の中のカテゴリーを取っていきます\n",
    "```html\n",
    "<article class=\"list col-md-12 post-287548 post type-post status-publish format-standard has-post-thumbnail hentry category-coffie category-tokyo category-close category-kantou_koushinetsu category-restaurant\">\n",
    "```\n"
   ]
  },
  {
   "cell_type": "code",
   "execution_count": null,
   "metadata": {},
   "outputs": [],
   "source": [
    "# soup オブジェクトの .get() メソッドをつかって class の属性情報をリストで取得\n",
    "# class の中身全部がカテゴリーではない\n",
    "soup.select(\"article\")[0].get(\"class\")"
   ]
  },
  {
   "cell_type": "code",
   "execution_count": null,
   "metadata": {},
   "outputs": [],
   "source": [
    "# 「category-」　という文字列が入っていない文字列は除去したい\n",
    "# 文字列オブジェクトが持つ .find() メソッドを使うと、引数に渡した文字列が入っているならばその位置を、入っていなければ-1を返す\n",
    "'category-coffie'.find(\"category\")"
   ]
  },
  {
   "cell_type": "code",
   "execution_count": null,
   "metadata": {},
   "outputs": [],
   "source": [
    "'post-287548'.find(\"category\")"
   ]
  },
  {
   "cell_type": "code",
   "execution_count": null,
   "metadata": {},
   "outputs": [],
   "source": [
    "# これをcategoryだけのリストを作成\n",
    "l = list()\n",
    "for cat in soup.select(\"article\")[0].get(\"class\"):\n",
    "    if cat.find(\"category\") > -1:\n",
    "        l.append(cat)\n",
    "print(l)\n",
    "        "
   ]
  },
  {
   "cell_type": "markdown",
   "metadata": {},
   "source": [
    "- 今日やったところ\n",
    "    - [ ] 内包表記（ちょっとバージョンアップ版）\n"
   ]
  },
  {
   "cell_type": "code",
   "execution_count": null,
   "metadata": {},
   "outputs": [],
   "source": [
    "# 条件付きリスト内包表記\n",
    "l = [cat for cat in soup.select(\"article\")[0].get(\"class\") if cat.find(\"category\") > -1]\n",
    "print(l)"
   ]
  },
  {
   "cell_type": "code",
   "execution_count": null,
   "metadata": {},
   "outputs": [],
   "source": [
    "# いままでのをまとめて関数にする\n",
    "# 返り値は辞書に入れる\n",
    "\n",
    "def get_details(soup):\n",
    "    \"\"\"\n",
    "    soup: soup.select_one(\"article\") もしくは、soup.select(\"article\")[0] を想定\n",
    "    \"\"\"\n",
    "    soup_a = soup.select_one(\"a\")\n",
    "    name = soup_a.get(\"title\")\n",
    "    post_time = soup_a.select_one(\"span.post_time\").get_text()\n",
    "    url = soup_a.get(\"href\")\n",
    "    category = soup_a.select_one(\"span.post_cat\").get_text()\n",
    "\n",
    "    category_tag = [cat for cat in  soup.get(\"class\") if cat.find(\"category\") > -1]# \n",
    "\n",
    "    return {\n",
    "        \"name\":name, \n",
    "        \"post_time\":post_time,\n",
    "        \"url\":url,\n",
    "        \"category\":category,\n",
    "        \"category_tag\":category_tag}"
   ]
  },
  {
   "cell_type": "code",
   "execution_count": null,
   "metadata": {},
   "outputs": [],
   "source": [
    "# テスト\n",
    "get_details(soup.select(\"article\")[0])"
   ]
  },
  {
   "cell_type": "code",
   "execution_count": null,
   "metadata": {},
   "outputs": [],
   "source": [
    "# これを article タグのデータ全てに適用する\n",
    "[get_details(article) for article in soup.select(\"article\")]"
   ]
  },
  {
   "cell_type": "code",
   "execution_count": null,
   "metadata": {},
   "outputs": [],
   "source": [
    "# html ファイルを引数にとってスクレイピングして辞書リストを返す関数を定義\n",
    "def fetch_all(f):\n",
    "    html = open(f).read()\n",
    "    soup = BeautifulSoup(html, 'html.parser')\n",
    "    return [get_details(article) for article in soup.select(\"article\")]\n",
    "    \n"
   ]
  },
  {
   "cell_type": "code",
   "execution_count": null,
   "metadata": {},
   "outputs": [],
   "source": [
    "# test\n",
    "fetch_all(\"../download/【閉店】/_category_kantou_koushinetsu_tokyo_page_1_.html\")\n"
   ]
  },
  {
   "cell_type": "markdown",
   "metadata": {},
   "source": [
    "## `download` ディレクトリに入っている全ファイルをスクレイピング"
   ]
  },
  {
   "cell_type": "markdown",
   "metadata": {},
   "source": [
    "### ファイルリストを取得\n",
    "\n",
    "`download` ホルダにダウンロードしている全htmlファイルに get_details関数を適用してデータを取得\n",
    "- 今日やったところ\n",
    "    - [ ] 組み込みクラスのインポートとインスタンス化\n"
   ]
  },
  {
   "cell_type": "code",
   "execution_count": null,
   "metadata": {},
   "outputs": [],
   "source": [
    "# glob --- Unix 形式のパス名のパターン展開 https://docs.python.org/ja/3/library/glob.html\n",
    "\n",
    "import glob \n",
    "# 【閉店】ディレクトリに入っているファイルをワイルドカードで指定。当てはまるフルパスをリストで返す\n",
    "print(glob.glob(\"../download/【閉店】/*.html\"))\n",
    "\n"
   ]
  },
  {
   "cell_type": "code",
   "execution_count": null,
   "metadata": {},
   "outputs": [],
   "source": [
    "# このまますると、二重リストになる\n",
    "[fetch_all(f) for f in glob.glob(\"../download/【閉店】/*.html\")[:3]]\n",
    "\n",
    "    \n"
   ]
  },
  {
   "cell_type": "code",
   "execution_count": null,
   "metadata": {},
   "outputs": [],
   "source": [
    "# こういう時は flatten \n",
    "# itertools に入っている chain.from_iterable クラスにネストしたデータを渡すとイテレータオブジェクトを返す\n",
    "import itertools\n",
    "itertools.chain.from_iterable([fetch_all(f) for f in glob.glob(\"../download/【閉店】/*.html\")[:3]])\n"
   ]
  },
  {
   "cell_type": "code",
   "execution_count": null,
   "metadata": {},
   "outputs": [],
   "source": [
    "# イテレータオブジェクトは list 関数に渡すと、リストになる\n",
    "list(itertools.chain.from_iterable([fetch_all(f) for f in glob.glob(\"../download/【閉店】/*.html\")[:3]]))"
   ]
  },
  {
   "cell_type": "code",
   "execution_count": null,
   "metadata": {},
   "outputs": [],
   "source": [
    "# ここまでを関数化\n",
    "# html のファイルリストを渡したら辞書データのリストを返す関数を定義\n",
    "\n",
    "def html_to_data(file_list):\n",
    "    return list(itertools.chain.from_iterable([fetch_all(f) for f in file_list]))"
   ]
  },
  {
   "cell_type": "code",
   "execution_count": null,
   "metadata": {},
   "outputs": [],
   "source": [
    "# test \n",
    "heiten_files = glob.glob(\"../download/【閉店】/*.html\")\n",
    "html_to_data(heiten_files)"
   ]
  },
  {
   "cell_type": "markdown",
   "metadata": {},
   "source": [
    "## データの前処理\n",
    "- pandasを使ってデータを前処理する\n",
    "- pandas のかんたんなチュートリアルは こちらをどうぞ[10 minutes to pandas — pandas 1.3.2 documentation](https://pandas.pydata.org/pandas-docs/stable/user_guide/10min.html)\n",
    "- いろいろ深く勉強したい人は [改訂版　Pythonユーザのための Jupyter［実践］入門](https://www.amazon.co.jp/dp/B08G1HYL9P) がオススメです\n",
    "\n",
    "\n"
   ]
  },
  {
   "cell_type": "code",
   "execution_count": null,
   "metadata": {},
   "outputs": [],
   "source": [
    "import pandas as pd\n"
   ]
  },
  {
   "cell_type": "markdown",
   "metadata": {},
   "source": [
    "### なぜデータを辞書型にしてリストに格納したのか？\n",
    "\n",
    "pandas の DataFrame クラスは、同じデータキーワードを持つデータのリストを渡すと、キーワードをコラムにしてDataFrameで返します。辞書型にしてリストのデータを作った理由はここにあります。\n"
   ]
  },
  {
   "cell_type": "code",
   "execution_count": null,
   "metadata": {},
   "outputs": [],
   "source": [
    "heitens = html_to_data(heiten_files)\n"
   ]
  },
  {
   "cell_type": "code",
   "execution_count": null,
   "metadata": {},
   "outputs": [],
   "source": [
    "df = pd.DataFrame(heitens)"
   ]
  },
  {
   "cell_type": "code",
   "execution_count": null,
   "metadata": {},
   "outputs": [],
   "source": [
    "# DataFrame オブジェクトの .head() メソッド：最初の五行だけ表示\n",
    "df.head()"
   ]
  },
  {
   "cell_type": "code",
   "execution_count": null,
   "metadata": {},
   "outputs": [],
   "source": [
    "# .info() メソッド。各コラムのデータ情報\n",
    "df.info()"
   ]
  },
  {
   "cell_type": "markdown",
   "metadata": {},
   "source": [
    "### 時系列データは、日時情報を index に持つのが吉\n",
    "\n",
    "- 開店閉店情報は時系列情報です。よって日付け情報である `post_time` を時系列インデックスに変換していたほうがいろいろ幸せなことが多いと思います。\n",
    "- `post_time` の型（⇑のDtype）は object になっています。DataFrameで object とは文字列のことです。\n",
    "- これを Pandas の `to_datetime()` メソッドでDateTime型へ変換します。\n",
    "- その後、DataFrame の `set_index()` メソッドで `post_time`をDataFrame のインデックスにします"
   ]
  },
  {
   "cell_type": "code",
   "execution_count": null,
   "metadata": {},
   "outputs": [],
   "source": [
    "# datetime64 型へ変換して上書き\n",
    "df[\"post_time\"] = pd.to_datetime(df[\"post_time\"])\n",
    "df.info()"
   ]
  },
  {
   "cell_type": "code",
   "execution_count": null,
   "metadata": {},
   "outputs": [],
   "source": [
    "# 見た目にはあまり変わらない\n",
    "df.head()"
   ]
  },
  {
   "cell_type": "code",
   "execution_count": null,
   "metadata": {},
   "outputs": [],
   "source": [
    "# post_time を このDataFrameのインデックスにします\n",
    "# .set_index() ： DataFrame オブジェクトが持つ .set_index() メソッド。コラム名を渡してそのコラムをIndexにした新しいDataFrameを返す\n",
    "# ただし、inplace=True オプションを渡すと、元のDataFrameのデータを書き換え（上書き）する\n",
    "\n",
    "df.set_index(\"post_time\", inplace=True)\n"
   ]
  },
  {
   "cell_type": "code",
   "execution_count": null,
   "metadata": {},
   "outputs": [],
   "source": [
    "df.head()"
   ]
  },
  {
   "cell_type": "code",
   "execution_count": null,
   "metadata": {},
   "outputs": [],
   "source": [
    "# .sort_index() メソッド： インデックスで並び替えした新しいDataFrameを返す\n",
    "# ただし、inplace=True オプションを渡すと、元のDataFrameのデータを書き換え（上書き）する\n",
    "df.sort_index(inplace=True)"
   ]
  },
  {
   "cell_type": "code",
   "execution_count": null,
   "metadata": {},
   "outputs": [],
   "source": [
    "df.head()"
   ]
  },
  {
   "cell_type": "code",
   "execution_count": null,
   "metadata": {},
   "outputs": [],
   "source": [
    "# これまでの処理を関数化します\n",
    "def data_to_dataframe(data):\n",
    "    \"\"\"\n",
    "    data は html_to_data で変換されたリストデータ\n",
    "    \"\"\"\n",
    "    df = pd.DataFrame(data)\n",
    "    df[\"post_time\"] = pd.to_datetime(df[\"post_time\"])\n",
    "    df.set_index(\"post_time\", inplace=True)\n",
    "    df.sort_index(inplace=True)\n",
    "    return df \n",
    "    \n",
    "    "
   ]
  },
  {
   "cell_type": "code",
   "execution_count": null,
   "metadata": {},
   "outputs": [],
   "source": [
    "# test\n",
    "df_heiten = data_to_dataframe(heitens)\n",
    "df_heiten.head()"
   ]
  },
  {
   "cell_type": "markdown",
   "metadata": {},
   "source": [
    "## 可視化\n",
    "\n",
    "- DataFrameが持つメソッドを駆使して可視化しましょう"
   ]
  },
  {
   "cell_type": "code",
   "execution_count": null,
   "metadata": {},
   "outputs": [],
   "source": [
    "# .resample() メソッド：　DataFrameが持つIndex情報を元にデータをリサンプリングしてResamplerオブジェクトを返す\n",
    "df_heiten.resample(\"M\") # M は月ごとにデータをリサンプリング"
   ]
  },
  {
   "cell_type": "code",
   "execution_count": null,
   "metadata": {
    "scrolled": true
   },
   "outputs": [],
   "source": [
    "# Resampler オブジェクトのメソッドを確認\n",
    "print(dir(df_heiten.resample(\"M\")))"
   ]
  },
  {
   "cell_type": "code",
   "execution_count": null,
   "metadata": {},
   "outputs": [],
   "source": [
    "# Resampler オブジェクト の .count() メソッド: リサンプリングデータの数をDataFrameで返す\n",
    "# つまり、毎月閉店した数を得ることが出来る\n",
    "df_heiten.resample(\"M\").count()"
   ]
  },
  {
   "cell_type": "code",
   "execution_count": null,
   "metadata": {},
   "outputs": [],
   "source": [
    "# .count() メソッドは、DataFrameを返すので、DataFrameオブジェクトのメソッドが使える\n",
    "# .plot() で描画しましょう\n",
    "\n",
    "# どのコラムも同じ数字なので代表で \"name\" だけで描画\n",
    "df_heiten.resample(\"M\").count()[\"name\"].plot()"
   ]
  },
  {
   "cell_type": "code",
   "execution_count": null,
   "metadata": {},
   "outputs": [],
   "source": [
    "# 年越せなかった店(2020/12月)と、頑張って越したけど非常事態宣言で耐えれなくなった店(2021/1,2月)、って感じですかね？\n",
    "# ただ、3月以降は急に減ってますよね。\n",
    "df_heiten.resample(\"M\").count()[\"name\"].plot(kind=\"bar\")"
   ]
  },
  {
   "cell_type": "markdown",
   "metadata": {},
   "source": [
    "[新型コロナ 東京都 4回目の緊急事態宣言の内容は | NHK](https://www.nhk.or.jp/shutoken/coronavirus/life_tokyo.html)\n"
   ]
  }
 ],
 "metadata": {
  "interpreter": {
   "hash": "e1bc0a2d6e37a3aecb527af0f8472f8cec0e2f95c5036306dcb9f882a331473b"
  },
  "kernelspec": {
   "display_name": "Python 3 (ipykernel)",
   "language": "python",
   "name": "python3"
  },
  "language_info": {
   "codemirror_mode": {
    "name": "ipython",
    "version": 3
   },
   "file_extension": ".py",
   "mimetype": "text/x-python",
   "name": "python",
   "nbconvert_exporter": "python",
   "pygments_lexer": "ipython3",
   "version": "3.8.3"
  },
  "toc": {
   "base_numbering": 1,
   "nav_menu": {},
   "number_sections": true,
   "sideBar": true,
   "skip_h1_title": false,
   "title_cell": "Table of Contents",
   "title_sidebar": "Contents",
   "toc_cell": false,
   "toc_position": {},
   "toc_section_display": true,
   "toc_window_display": false
  }
 },
 "nbformat": 4,
 "nbformat_minor": 2
}
